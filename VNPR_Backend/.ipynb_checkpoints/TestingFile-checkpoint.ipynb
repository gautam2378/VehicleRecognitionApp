{
 "cells": [
  {
   "cell_type": "code",
   "execution_count": 1,
   "id": "f840887c-7a62-49f4-9ae6-056ffc47dd2e",
   "metadata": {},
   "outputs": [],
   "source": [
    "# Only Video code\n",
    "# def detect_license_plate(path, collection,reader):\n",
    "#     cap = cv2.VideoCapture(path)\n",
    "#     result = {}\n",
    "#     # read frames\n",
    "#     frame_number = -1\n",
    "#     ret = True\n",
    "#     x=0\n",
    "#     y=0\n",
    "#     while ret:\n",
    "#         ret =False\n",
    "#         frame_number+=1\n",
    "#         ret,frame= cap.read()\n",
    "#         if frame_number==0:\n",
    "#             (x,y,_) = frame.shape\n",
    "#             y=int(0.6*y)\n",
    "#         if ret and frame_number%5==0:\n",
    "#             try:\n",
    "#                 results = model.track(frame, persist=True)\n",
    "#                 cars = results[0].boxes.data.tolist()\n",
    "#                 track_ids = results[0].boxes.id.int().cpu().tolist()\n",
    "#                 print(track_ids)\n",
    "#                 for i in range (len(cars)):\n",
    "#                     xcar1, ycar1, xcar2, ycar2, track_id, score,object_id = cars[i]\n",
    "#                     if object_id in vehicles:\n",
    "#                         car = frame[int(ycar1):int(ycar2), int(xcar1):int(xcar2),:]\n",
    "#                         license_plates = license_plate_detector(car)[0].boxes.data.tolist()\n",
    "#                         if len(license_plates)!=0:\n",
    "#                             x1,y1,x2,y2,score,class_id = license_plates[0]\n",
    "#                             x1r = int(xcar1 + x1)\n",
    "#                             y1r = int(ycar1 + y1)\n",
    "#                             x2r = int(x1r + (x2 - x1))\n",
    "#                             y2r = int(y1r + (y2 - y1))\n",
    "#                             if y1r<y or track_ids[i] in result:\n",
    "#                                 continue\n",
    "#                             license_plate_crop_ = car[int(y1):int(y2), int(x1):int(x2),:]\n",
    "#                             thresh_img = align_license_plate(src_img=license_plate_crop_)\n",
    "#                             if thresh_img is None:\n",
    "#                                 continue\n",
    "#                             # thresh_img = imutils.rotate(license_plate_crop_, -30)\n",
    "#                             # license_plate_crop = align_license_plate(src_img=license_plate_crop_)\n",
    "#                             # thresh_img =test.preprocess_license_plate(license_plate_crop,is_visualize_steps=True)\n",
    "#                             license_plate_text , _ = util.read_license_plate(thresh_img,reader)\n",
    "#                             if license_plate_text and license_plate_text!=\"\" and len(license_plate_text)>4:\n",
    "#                                 # print(\"Predictions\\n\\n\")\n",
    "#                                 # print(track_ids[i],license_plate_text)\n",
    "#                                 license_plate_text = str(license_plate_text)\n",
    "#                                 if track_ids[i] not in result:\n",
    "#                                     temp = datetime.datetime.now().strftime(\"%H:%M:%S %B %d, %Y\")\n",
    "#                                     result[track_ids[i]] = [license_plate_text,temp]\n",
    "#             except Exception as e:\n",
    "#                 print(e)\n",
    "                \n",
    "#     # print(\"Results\\n\\n\\n\\n\\n\")   \n",
    "#     # print(result)\n",
    "#     # Log into db\n",
    "#     # for i in result:\n",
    "#     #     print(result[i])\n",
    "#     #     db.insertIntoDatabase(result[i][0],result[i][1])\n",
    "#     return [result[i] for i in result]"
   ]
  },
  {
   "cell_type": "code",
   "execution_count": 2,
   "id": "68f21852-7a28-4e09-9f69-8b9f8335c62f",
   "metadata": {},
   "outputs": [
    {
     "name": "stdout",
     "output_type": "stream",
     "text": [
      "(826, 861, 3)\n"
     ]
    }
   ],
   "source": [
    "import cv2\n",
    "path = './Videos/11.png'\n",
    "image = cv2.imread(path)\n",
    "print(image.shape)\n",
    "x,y,_ = image.shape"
   ]
  },
  {
   "cell_type": "code",
   "execution_count": 3,
   "id": "3afc3813-1d3f-45a3-aec5-a53fe6f0563f",
   "metadata": {},
   "outputs": [],
   "source": [
    "import cv2\n",
    "from ultralytics import YOLO\n",
    "import util\n",
    "import numpy as np\n",
    "import db\n",
    "import test\n",
    "import imutils\n",
    "import datetime\n",
    "from matplotlib import pyplot as plt\n",
    "# from sort import *\n",
    "# Loading models\n",
    "\n",
    "model = YOLO('yolov8n.pt')\n",
    "license_plate_detector = YOLO('./model/best.pt')"
   ]
  },
  {
   "cell_type": "code",
   "execution_count": 4,
   "id": "a079a526-9064-46f8-af4d-c9ddf2656c1a",
   "metadata": {},
   "outputs": [],
   "source": [
    "# load video\n",
    "vehicles = [2,3,5,7]\n",
    "\n",
    "def order_points(pts):\n",
    "\t# initialzie a list of coordinates that will be ordered\n",
    "\t# such that the first entry in the list is the top-left,\n",
    "\t# the second entry is the top-right, the third is the\n",
    "\t# bottom-right, and the fourth is the bottom-left\n",
    "\trect = np.zeros((4, 2), dtype = \"float32\")\n",
    "\t# the top-left point will have the smallest sum, whereas\n",
    "\t# the bottom-right point will have the largest sum\n",
    "\ts = pts.sum(axis = 1)\n",
    "\trect[0] = pts[np.argmin(s)]\n",
    "\trect[2] = pts[np.argmax(s)]\n",
    "\t# now, compute the difference between the points, the\n",
    "\t# top-right point will have the smallest difference,\n",
    "\t# whereas the bottom-left will have the largest difference\n",
    "\tdiff = np.diff(pts, axis = 1)\n",
    "\trect[1] = pts[np.argmin(diff)]\n",
    "\trect[3] = pts[np.argmax(diff)]\n",
    "\t# return the ordered coordinates\n",
    "\treturn rect\n",
    "\n",
    "\n",
    "def four_points_transform(image, pts):\n",
    "\t# obtain a consistent order of the points and unpack them\n",
    "\t# individually\n",
    "\trect = order_points(pts)\n",
    "\t(tl, tr, br, bl) = rect\n",
    "\t# compute the width of the new image, which will be the\n",
    "\t# maximum distance between bottom-right and bottom-left\n",
    "\t# x-coordiates or the top-right and top-left x-coordinates\n",
    "\twidthA = np.sqrt(((br[0] - bl[0]) ** 2) + ((br[1] - bl[1]) ** 2))\n",
    "\twidthB = np.sqrt(((tr[0] - tl[0]) ** 2) + ((tr[1] - tl[1]) ** 2))\n",
    "\tmaxWidth = max(int(widthA), int(widthB))\n",
    "\t# compute the height of the new image, which will be the\n",
    "\t# maximum distance between the top-right and bottom-right\n",
    "\t# y-coordinates or the top-left and bottom-left y-coordinates\n",
    "\theightA = np.sqrt(((tr[0] - br[0]) ** 2) + ((tr[1] - br[1]) ** 2))\n",
    "\theightB = np.sqrt(((tl[0] - bl[0]) ** 2) + ((tl[1] - bl[1]) ** 2))\n",
    "\tmaxHeight = max(int(heightA), int(heightB))\n",
    "\t# now that we have the dimensions of the new image, construct\n",
    "\t# the set of destination points to obtain a \"birds eye view\",\n",
    "\t# (i.e. top-down view) of the image, again specifying points\n",
    "\t# in the top-left, top-right, bottom-right, and bottom-left\n",
    "\t# order\n",
    "\tdst = np.array([\n",
    "\t\t[0, 0],\n",
    "\t\t[maxWidth - 1, 0],\n",
    "\t\t[maxWidth - 1, maxHeight - 1],\n",
    "\t\t[0, maxHeight - 1]], dtype = \"float32\")\n",
    "\t# compute the perspective transform matrix and then apply it\n",
    "\tM = cv2.getPerspectiveTransform(rect, dst)\n",
    "\twarped = cv2.warpPerspective(image, M, (maxWidth, maxHeight))\n",
    "\t# return the warped image\n",
    "\treturn warped\n",
    "\n",
    "\n",
    "def getContours(img, orig):\n",
    "    biggest = np.array([])\n",
    "    maxArea = 0\n",
    "\n",
    "    # _, contours, _ = cv2.findContours(img, cv2.RETR_EXTERNAL, cv2.CHAIN_APPROX_NONE)\n",
    "    contours, _ = cv2.findContours(img, cv2.RETR_EXTERNAL, cv2.CHAIN_APPROX_NONE)\n",
    "    for cnt in contours:\n",
    "        area = cv2.contourArea(cnt)\n",
    "        if area > 500:\n",
    "            cv2.drawContours(orig, cnt, -1, (255, 0, 0), 3)\n",
    "            min_rect = cv2.minAreaRect(cnt)\n",
    "            approx = cv2.boxPoints(min_rect).astype(int)\n",
    "            approx = approx[:,np.newaxis,:]\n",
    "            # peri = cv2.arcLength(cnt, True)\n",
    "            # approx = cv2.approxPolyDP(cnt,0.02*peri, True)\n",
    "            if area > maxArea and len(approx) == 4:\n",
    "            # if area > maxArea:\n",
    "                biggest = approx\n",
    "                maxArea = area\n",
    "                break\n",
    "    return biggest, orig\n",
    "\n",
    "\n",
    "def align_license_plate(src_img,is_Visualize=False):\n",
    "    kernel = np.ones((3,3))\n",
    "    imgGray = cv2.cvtColor(src_img, cv2.COLOR_RGB2GRAY)\n",
    "    imgBlur = cv2.GaussianBlur(imgGray,(5,5),1)\n",
    "    imgCanny = cv2.Canny(imgBlur,150,200)\n",
    "    imgDial = cv2.dilate(imgCanny,kernel,iterations=2)\n",
    "    imgThres = cv2.erode(imgDial,kernel,iterations=2)\n",
    "    imgContour = src_img.copy()\n",
    "    \n",
    "    \n",
    "    \n",
    "    biggest, contour_img = getContours(imgThres, imgContour)\n",
    "    # print(biggest)\n",
    "    if len(biggest) ==0:\n",
    "        return None\n",
    "    biggest = np.squeeze(biggest)\n",
    "    # print(biggest)\n",
    "\n",
    "    # Visualize if biggest is correct or not\n",
    "    # imgWarped = src_img.copy()\n",
    "    # cv2.drawContours(imgWarped, [biggest], 0, (255, 0, 0), 4)\n",
    "\n",
    "    imgWarped = four_points_transform(src_img, biggest)\n",
    "    if is_Visualize:\n",
    "        titles = ['original', 'Blur', 'Canny', 'Dialte', 'Threshold', 'Contours', \"Warped\" ]\n",
    "        images = [src_img,  imgBlur, imgCanny, imgDial, imgThres, contour_img, imgWarped]\n",
    "        \n",
    "        for i in range(7):\n",
    "            plt.subplot(3, 3, i+1), plt.imshow(images[i], 'gray')\n",
    "            plt.title(titles[i])\n",
    "        \n",
    "        plt.show()\n",
    "    return imgWarped"
   ]
  },
  {
   "cell_type": "code",
   "execution_count": 5,
   "id": "c370995d-403c-4d5e-b1a1-6276207e1423",
   "metadata": {},
   "outputs": [],
   "source": [
    "def detect_license_plate(path, collection,reader):\n",
    "    var = False\n",
    "\n",
    "    cap = cv2.VideoCapture(path)\n",
    "    result = {}\n",
    "    # read frames\n",
    "    frame_number = -1\n",
    "    ret = True\n",
    "    x=0\n",
    "    y=0\n",
    "    try:\n",
    "        while ret:\n",
    "            ret =False\n",
    "            frame_number+=1\n",
    "            ret,frame= cap.read()\n",
    "            if frame_number==0:\n",
    "                (x,y,_) = frame.shape\n",
    "                y=int(0.6*y)\n",
    "            if ret and frame_number%5==0:\n",
    "                results = model.track(frame, persist=True)\n",
    "                cars = results[0].boxes.data.tolist()\n",
    "                track_ids = results[0].boxes.id.int().cpu().tolist()\n",
    "                print(track_ids)\n",
    "                for i in range (len(cars)):\n",
    "                    xcar1, ycar1, xcar2, ycar2, track_id, score,object_id = cars[i]\n",
    "                    if object_id in vehicles:\n",
    "                        car = frame[int(ycar1):int(ycar2), int(xcar1):int(xcar2),:]\n",
    "                        license_plates = license_plate_detector(car)[0].boxes.data.tolist()\n",
    "                        if len(license_plates)!=0:\n",
    "                            x1,y1,x2,y2,score,class_id = license_plates[0]\n",
    "                            x1r = int(xcar1 + x1)\n",
    "                            y1r = int(ycar1 + y1)\n",
    "                            x2r = int(x1r + (x2 - x1))\n",
    "                            y2r = int(y1r + (y2 - y1))\n",
    "                            if y1r<y or track_ids[i] in result:\n",
    "                                continue\n",
    "                            license_plate_crop_ = car[int(y1):int(y2), int(x1):int(x2),:]\n",
    "                            thresh_img = license_plate_crop_\n",
    "                            thresh_img = align_license_plate(src_img=license_plate_crop_)\n",
    "                            if thresh_img is None:\n",
    "                                continue\n",
    "                            license_plate_text , _ = util.read_license_plate(thresh_img,reader)\n",
    "                            if license_plate_text and license_plate_text!=\"\" and len(license_plate_text)>4:\n",
    "                                license_plate_text = str(license_plate_text)\n",
    "                                if track_ids[i] not in result:\n",
    "                                    temp = datetime.datetime.now().strftime(\"%H:%M:%S %B %d, %Y\")\n",
    "                                    result[track_ids[i]] = [license_plate_text,temp]\n",
    "        var = True\n",
    "        # for i in result:\n",
    "        #     db.insertIntoDatabase(result[i][0],result[i][1])\n",
    "        return [result[i] for i in result]\n",
    "    except Exception as e:\n",
    "        var = False\n",
    "        print(e)\n",
    "    if not var:\n",
    "        frame = cv2.imread(path)\n",
    "        result = {}\n",
    "        x,y,_ = frame.shape\n",
    "        y=int(0.5*y)\n",
    "        license_plates = license_plate_detector(frame)[0].boxes.data.tolist()\n",
    "        for i in range (len(license_plates)):\n",
    "                x1,y1,x2,y2,score,class_id = license_plates[i]\n",
    "                license_plate_crop_ = frame[int(y1):int(y2), int(x1):int(x2),:]\n",
    "                thresh_img = license_plate_crop_\n",
    "                try:\n",
    "                    thresh_img = align_license_plate(src_img=license_plate_crop_)\n",
    "                    if thresh_img is None:\n",
    "                        continue\n",
    "                except:\n",
    "                    pass\n",
    "                license_plate_text , _ = util.read_license_plate(thresh_img,reader)\n",
    "                temp = datetime.datetime.now().strftime(\"%H:%M:%S %B %d, %Y\")\n",
    "                result[i] = [license_plate_text,temp]\n",
    "        # Log into db\n",
    "        # for i in result:\n",
    "        #     db.insertIntoDatabase(result[i][0],result[i][1])\n",
    "        var = True\n",
    "        return [result[i] for i in result]"
   ]
  },
  {
   "cell_type": "code",
   "execution_count": 6,
   "id": "cc5a8378-cf81-4209-8475-3d88faaea2c9",
   "metadata": {},
   "outputs": [
    {
     "name": "stderr",
     "output_type": "stream",
     "text": [
      "Using CPU. Note: This module is much faster with a GPU.\n"
     ]
    }
   ],
   "source": [
    "import easyocr\n",
    "reader = easyocr.Reader(['en'],gpu=False)"
   ]
  },
  {
   "cell_type": "code",
   "execution_count": 7,
   "id": "fdf7f7ca-c979-48e3-95d7-0cdc5d52fb13",
   "metadata": {},
   "outputs": [
    {
     "name": "stderr",
     "output_type": "stream",
     "text": [
      "\n"
     ]
    },
    {
     "name": "stdout",
     "output_type": "stream",
     "text": [
      "Given groups=1, weight of size [16, 3, 3, 3], expected input[1, 4, 640, 640] to have 3 channels, but got 4 channels instead\n"
     ]
    },
    {
     "name": "stderr",
     "output_type": "stream",
     "text": [
      "\n",
      "0: 640x640 1 License_Plate, 127.1ms\n",
      "Speed: 4.1ms preprocess, 127.1ms inference, 0.0ms postprocess per image at shape (1, 3, 640, 640)\n"
     ]
    },
    {
     "name": "stdout",
     "output_type": "stream",
     "text": [
      "[['FUP8L1L6752', '11:20:00 October 20, 2023']]\n"
     ]
    }
   ],
   "source": [
    "path = './Videos/11.png'\n",
    "print(detect_license_plate(path,collection=\"11\",reader=reader))"
   ]
  },
  {
   "cell_type": "code",
   "execution_count": 8,
   "id": "9750501c-e5de-478a-a24c-1b3c85c045a2",
   "metadata": {},
   "outputs": [
    {
     "name": "stderr",
     "output_type": "stream",
     "text": [
      "\n",
      "0: 640x576 1 car, 132.6ms\n",
      "Speed: 0.0ms preprocess, 132.6ms inference, 0.0ms postprocess per image at shape (1, 3, 640, 576)\n",
      "\n",
      "0: 640x448 1 License_Plate, 98.7ms\n",
      "Speed: 1.8ms preprocess, 98.7ms inference, 0.0ms postprocess per image at shape (1, 3, 640, 448)\n"
     ]
    },
    {
     "name": "stdout",
     "output_type": "stream",
     "text": [
      "[1]\n"
     ]
    },
    {
     "name": "stderr",
     "output_type": "stream",
     "text": [
      "\n",
      "0: 640x576 1 car, 119.3ms\n",
      "Speed: 0.0ms preprocess, 119.3ms inference, 0.0ms postprocess per image at shape (1, 3, 640, 576)\n",
      "\n",
      "0: 640x448 1 License_Plate, 78.9ms\n",
      "Speed: 2.3ms preprocess, 78.9ms inference, 0.0ms postprocess per image at shape (1, 3, 640, 448)\n",
      "\n"
     ]
    },
    {
     "name": "stdout",
     "output_type": "stream",
     "text": [
      "[1]\n"
     ]
    },
    {
     "name": "stderr",
     "output_type": "stream",
     "text": [
      "0: 640x576 1 car, 123.9ms\n",
      "Speed: 0.0ms preprocess, 123.9ms inference, 8.1ms postprocess per image at shape (1, 3, 640, 576)\n",
      "\n",
      "0: 640x384 1 License_Plate, 83.1ms\n",
      "Speed: 1.2ms preprocess, 83.1ms inference, 0.0ms postprocess per image at shape (1, 3, 640, 384)\n",
      "\n"
     ]
    },
    {
     "name": "stdout",
     "output_type": "stream",
     "text": [
      "[1]\n"
     ]
    },
    {
     "name": "stderr",
     "output_type": "stream",
     "text": [
      "0: 640x576 1 car, 1 bus, 129.1ms\n",
      "Speed: 0.0ms preprocess, 129.1ms inference, 0.0ms postprocess per image at shape (1, 3, 640, 576)\n",
      "\n"
     ]
    },
    {
     "name": "stdout",
     "output_type": "stream",
     "text": [
      "[1, 2]\n"
     ]
    },
    {
     "name": "stderr",
     "output_type": "stream",
     "text": [
      "0: 640x352 (no detections), 237.8ms\n",
      "Speed: 4.9ms preprocess, 237.8ms inference, 0.0ms postprocess per image at shape (1, 3, 640, 352)\n",
      "\n",
      "0: 640x480 (no detections), 302.4ms\n",
      "Speed: 7.5ms preprocess, 302.4ms inference, 0.0ms postprocess per image at shape (1, 3, 640, 480)\n",
      "\n",
      "0: 640x576 1 car, 1 train, 358.7ms\n",
      "Speed: 11.3ms preprocess, 358.7ms inference, 0.0ms postprocess per image at shape (1, 3, 640, 576)\n",
      "\n"
     ]
    },
    {
     "name": "stdout",
     "output_type": "stream",
     "text": [
      "[1, 2]\n"
     ]
    },
    {
     "name": "stderr",
     "output_type": "stream",
     "text": [
      "0: 640x544 1 License_Plate, 339.6ms\n",
      "Speed: 6.0ms preprocess, 339.6ms inference, 2.2ms postprocess per image at shape (1, 3, 640, 544)\n",
      "\n",
      "0: 640x576 1 car, 1 train, 331.3ms\n",
      "Speed: 9.8ms preprocess, 331.3ms inference, 9.3ms postprocess per image at shape (1, 3, 640, 576)\n",
      "\n"
     ]
    },
    {
     "name": "stdout",
     "output_type": "stream",
     "text": [
      "[1, 2]\n"
     ]
    },
    {
     "name": "stderr",
     "output_type": "stream",
     "text": [
      "0: 640x512 1 License_Plate, 344.5ms\n",
      "Speed: 0.0ms preprocess, 344.5ms inference, 0.0ms postprocess per image at shape (1, 3, 640, 512)\n",
      "\n",
      "0: 640x576 1 car, 1 bus, 352.3ms\n",
      "Speed: 7.5ms preprocess, 352.3ms inference, 0.0ms postprocess per image at shape (1, 3, 640, 576)\n",
      "\n"
     ]
    },
    {
     "name": "stdout",
     "output_type": "stream",
     "text": [
      "[1, 2]\n"
     ]
    },
    {
     "name": "stderr",
     "output_type": "stream",
     "text": [
      "0: 640x320 2 License_Plates, 224.2ms\n",
      "Speed: 0.0ms preprocess, 224.2ms inference, 0.0ms postprocess per image at shape (1, 3, 640, 320)\n",
      "\n",
      "0: 640x544 1 License_Plate, 287.0ms\n",
      "Speed: 5.2ms preprocess, 287.0ms inference, 0.0ms postprocess per image at shape (1, 3, 640, 544)\n",
      "\n",
      "0: 640x576 1 car, 323.0ms\n",
      "Speed: 15.2ms preprocess, 323.0ms inference, 15.6ms postprocess per image at shape (1, 3, 640, 576)\n",
      "\n"
     ]
    },
    {
     "name": "stdout",
     "output_type": "stream",
     "text": [
      "[2]\n"
     ]
    },
    {
     "name": "stderr",
     "output_type": "stream",
     "text": [
      "0: 640x576 1 License_Plate, 328.2ms\n",
      "Speed: 6.9ms preprocess, 328.2ms inference, 0.0ms postprocess per image at shape (1, 3, 640, 576)\n",
      "\n",
      "0: 640x576 2 cars, 348.9ms\n",
      "Speed: 8.0ms preprocess, 348.9ms inference, 0.0ms postprocess per image at shape (1, 3, 640, 576)\n",
      "\n"
     ]
    },
    {
     "name": "stdout",
     "output_type": "stream",
     "text": [
      "[2, 5]\n"
     ]
    },
    {
     "name": "stderr",
     "output_type": "stream",
     "text": [
      "0: 640x544 1 License_Plate, 309.5ms\n",
      "Speed: 10.2ms preprocess, 309.5ms inference, 8.0ms postprocess per image at shape (1, 3, 640, 544)\n",
      "\n",
      "0: 640x512 (no detections), 280.1ms\n",
      "Speed: 6.0ms preprocess, 280.1ms inference, 0.0ms postprocess per image at shape (1, 3, 640, 512)\n",
      "\n",
      "0: 640x576 2 cars, 327.8ms\n",
      "Speed: 11.9ms preprocess, 327.8ms inference, 15.6ms postprocess per image at shape (1, 3, 640, 576)\n",
      "\n"
     ]
    },
    {
     "name": "stdout",
     "output_type": "stream",
     "text": [
      "[2, 5]\n"
     ]
    },
    {
     "name": "stderr",
     "output_type": "stream",
     "text": [
      "0: 640x544 1 License_Plate, 304.6ms\n",
      "Speed: 11.1ms preprocess, 304.6ms inference, 0.0ms postprocess per image at shape (1, 3, 640, 544)\n",
      "\n",
      "0: 640x512 (no detections), 288.9ms\n",
      "Speed: 3.6ms preprocess, 288.9ms inference, 0.0ms postprocess per image at shape (1, 3, 640, 512)\n",
      "\n",
      "0: 640x576 2 cars, 321.6ms\n",
      "Speed: 14.4ms preprocess, 321.6ms inference, 0.0ms postprocess per image at shape (1, 3, 640, 576)\n",
      "\n"
     ]
    },
    {
     "name": "stdout",
     "output_type": "stream",
     "text": [
      "[2, 5]\n"
     ]
    },
    {
     "name": "stderr",
     "output_type": "stream",
     "text": [
      "0: 640x544 1 License_Plate, 303.8ms\n",
      "Speed: 4.3ms preprocess, 303.8ms inference, 0.0ms postprocess per image at shape (1, 3, 640, 544)\n",
      "\n",
      "0: 640x512 (no detections), 283.0ms\n",
      "Speed: 4.5ms preprocess, 283.0ms inference, 0.0ms postprocess per image at shape (1, 3, 640, 512)\n",
      "\n",
      "0: 640x576 2 cars, 330.0ms\n",
      "Speed: 9.8ms preprocess, 330.0ms inference, 0.0ms postprocess per image at shape (1, 3, 640, 576)\n",
      "\n"
     ]
    },
    {
     "name": "stdout",
     "output_type": "stream",
     "text": [
      "[2, 5]\n"
     ]
    },
    {
     "name": "stderr",
     "output_type": "stream",
     "text": [
      "0: 640x512 1 License_Plate, 300.8ms\n",
      "Speed: 9.3ms preprocess, 300.8ms inference, 15.7ms postprocess per image at shape (1, 3, 640, 512)\n",
      "\n",
      "0: 640x544 (no detections), 294.1ms\n",
      "Speed: 8.5ms preprocess, 294.1ms inference, 0.0ms postprocess per image at shape (1, 3, 640, 544)\n",
      "\n",
      "0: 640x576 2 cars, 336.1ms\n",
      "Speed: 14.1ms preprocess, 336.1ms inference, 0.0ms postprocess per image at shape (1, 3, 640, 576)\n",
      "\n"
     ]
    },
    {
     "name": "stdout",
     "output_type": "stream",
     "text": [
      "[2, 5]\n"
     ]
    },
    {
     "name": "stderr",
     "output_type": "stream",
     "text": [
      "0: 640x512 1 License_Plate, 293.1ms\n",
      "Speed: 8.1ms preprocess, 293.1ms inference, 1.1ms postprocess per image at shape (1, 3, 640, 512)\n",
      "\n",
      "0: 640x608 (no detections), 384.5ms\n",
      "Speed: 2.9ms preprocess, 384.5ms inference, 0.0ms postprocess per image at shape (1, 3, 640, 608)\n",
      "\n",
      "0: 640x576 2 cars, 344.4ms\n",
      "Speed: 19.0ms preprocess, 344.4ms inference, 0.0ms postprocess per image at shape (1, 3, 640, 576)\n",
      "\n"
     ]
    },
    {
     "name": "stdout",
     "output_type": "stream",
     "text": [
      "[2, 5]\n"
     ]
    },
    {
     "name": "stderr",
     "output_type": "stream",
     "text": [
      "0: 640x512 1 License_Plate, 274.2ms\n",
      "Speed: 8.7ms preprocess, 274.2ms inference, 15.7ms postprocess per image at shape (1, 3, 640, 512)\n",
      "\n",
      "0: 640x608 (no detections), 344.9ms\n",
      "Speed: 12.6ms preprocess, 344.9ms inference, 0.0ms postprocess per image at shape (1, 3, 640, 608)\n"
     ]
    },
    {
     "name": "stdout",
     "output_type": "stream",
     "text": [
      "[['HR 98C 5644', '11:20:01 October 20, 2023'], ['FUP84AL6752', '11:20:13 October 20, 2023']]\n"
     ]
    }
   ],
   "source": [
    "path = './Videos/demo.mp4'\n",
    "print(detect_license_plate(path,\"1\",reader))"
   ]
  },
  {
   "cell_type": "code",
   "execution_count": null,
   "id": "8d7972b8-334b-48fb-9690-0f89eddfab7c",
   "metadata": {},
   "outputs": [],
   "source": []
  },
  {
   "cell_type": "code",
   "execution_count": null,
   "id": "54dce005-cd05-4550-9be2-cf8b5a61fd61",
   "metadata": {},
   "outputs": [],
   "source": []
  },
  {
   "cell_type": "code",
   "execution_count": null,
   "id": "8e02e2d4-3cb8-4768-8abd-a1263160b470",
   "metadata": {},
   "outputs": [],
   "source": []
  },
  {
   "cell_type": "code",
   "execution_count": null,
   "id": "781a6399-0f38-452d-8bf9-54b473381efc",
   "metadata": {},
   "outputs": [],
   "source": []
  },
  {
   "cell_type": "code",
   "execution_count": null,
   "id": "2e82784d-e9b5-4330-9d3c-66d2b09e6773",
   "metadata": {},
   "outputs": [],
   "source": []
  },
  {
   "cell_type": "code",
   "execution_count": null,
   "id": "b7f3996a-f5d1-4178-9e88-018aafcb00a1",
   "metadata": {},
   "outputs": [],
   "source": []
  }
 ],
 "metadata": {
  "kernelspec": {
   "display_name": "Python 3 (ipykernel)",
   "language": "python",
   "name": "python3"
  },
  "language_info": {
   "codemirror_mode": {
    "name": "ipython",
    "version": 3
   },
   "file_extension": ".py",
   "mimetype": "text/x-python",
   "name": "python",
   "nbconvert_exporter": "python",
   "pygments_lexer": "ipython3",
   "version": "3.11.5"
  }
 },
 "nbformat": 4,
 "nbformat_minor": 5
}
